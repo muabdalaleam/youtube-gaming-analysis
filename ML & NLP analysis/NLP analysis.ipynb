{
 "cells": [
  {
   "cell_type": "markdown",
   "id": "b6318496-bd86-4156-9895-08f1d3dd4843",
   "metadata": {
    "jp-MarkdownHeadingCollapsed": true,
    "tags": []
   },
   "source": [
    "## <center> **<span style=\"color: red\">NLP</span> steps and explnation.**"
   ]
  },
  {
   "cell_type": "markdown",
   "id": "534d6f47-3167-4401-9713-9bf09824a225",
   "metadata": {},
   "source": [
    "Here we will use <span style=\"color: #ffd21e\">**Hugging face**</span> trasformers pre trained models becuase it'll take so much effort to label<br>\n",
    "all of our text columns \"<ins>Comments, Describtion, Title</ins>\" and also we will extract categorical and numirecal<br>\n",
    "features from the text columns.<br><br>\n",
    "\n",
    "##### **Steps in detail:**\n",
    "<ul>\n",
    "    <li>Extract categorical features from text columns sush as:<ol> \n",
    "        <li>Contains emojies\n",
    "        <li>Positive or negative\n",
    "        <li>language</ol>\n",
    "    <li> Doing analysis for most common words in comments and titles\n",
    "    <li> Extracing the length of the comments, descriptions & titles\n",
    "    <li> Stemming the data and tekonizing it\n",
    "    <li> Saving those new data into new <strong>one</strong> Df to use in the final ML model"
   ]
  },
  {
   "cell_type": "markdown",
   "id": "8cb66a5d-927b-4f7e-9cb4-16c09f5fa91f",
   "metadata": {
    "tags": []
   },
   "source": [
    "## <center> **Importing the <span style=\"color: red\">Packeges</span>**<br>\n",
    "<img src=\"https://www.clipartmax.com/png/small/241-2411667_view-more-youtube-gaming-logo-png.png\" alt=\"View More - Youtube Gaming Logo Png @clipartmax.com\">"
   ]
  },
  {
   "cell_type": "code",
   "execution_count": 36,
   "id": "e5ee00c6-0b2a-49ca-b100-17a23aeeb885",
   "metadata": {
    "tags": []
   },
   "outputs": [
    {
     "data": {
      "application/vnd.jupyter.widget-view+json": {
       "model_id": "19ffaab489764108bfc21fb00de28a4e",
       "version_major": 2,
       "version_minor": 0
      },
      "text/plain": [
       "VBox(children=(HTML(value='<center> <img\\nsrc=https://huggingface.co/front/assets/huggingface_logo-noborder.sv…"
      ]
     },
     "metadata": {},
     "output_type": "display_data"
    }
   ],
   "source": [
    "import os\n",
    "import nltk\n",
    "import emoji\n",
    "import sqlite3\n",
    "import pandas as pd\n",
    "import numpy as np\n",
    "import transformers\n",
    "import huggingface_hub\n",
    "\n",
    "from PIL import Image\n",
    "import matplotlib.pyplot as plt\n",
    "from wordcloud import (WordCloud,\n",
    "                       STOPWORDS,\n",
    "                       ImageColorGenerator)\n",
    "huggingface_hub.notebook_login()"
   ]
  },
  {
   "cell_type": "markdown",
   "id": "fce01ab5-a514-4ed8-8bdc-d57b5e8bb339",
   "metadata": {
    "jp-MarkdownHeadingCollapsed": true,
    "tags": []
   },
   "source": [
    "## <center> **Reading the <span style=\"color: red\">data</span>**"
   ]
  },
  {
   "cell_type": "code",
   "execution_count": 2,
   "id": "8eb06258-74c7-43e6-b028-b047ec4bd479",
   "metadata": {
    "tags": []
   },
   "outputs": [],
   "source": [
    "con = sqlite3.connect('../database.db')\n",
    "\n",
    "df = pd.read_sql_query(\"\"\"   \n",
    "                        \n",
    "                        SELECT *\n",
    "                        FROM base_videos AS bv\n",
    "\n",
    "                        INNER JOIN base_channels  AS bc ON\n",
    "                            bc.channel_name = bv.channelTitle\n",
    "\n",
    "                        INNER JOIN comments  AS c ON\n",
    "                            c.video_id = bv.video_id\"\"\", con)\n",
    "\n",
    "con.close()\n",
    "\n",
    "df = df.T.drop_duplicates().T # dropping duplicated cols"
   ]
  },
  {
   "cell_type": "code",
   "execution_count": 3,
   "id": "4882caaa-3d9d-4d46-927e-0e6465db004a",
   "metadata": {
    "tags": []
   },
   "outputs": [
    {
     "data": {
      "text/html": [
       "<div>\n",
       "<style scoped>\n",
       "    .dataframe tbody tr th:only-of-type {\n",
       "        vertical-align: middle;\n",
       "    }\n",
       "\n",
       "    .dataframe tbody tr th {\n",
       "        vertical-align: top;\n",
       "    }\n",
       "\n",
       "    .dataframe thead th {\n",
       "        text-align: right;\n",
       "    }\n",
       "</style>\n",
       "<table border=\"1\" class=\"dataframe\">\n",
       "  <thead>\n",
       "    <tr style=\"text-align: right;\">\n",
       "      <th></th>\n",
       "      <th>video_id</th>\n",
       "      <th>channelTitle</th>\n",
       "      <th>title</th>\n",
       "      <th>description</th>\n",
       "      <th>tags</th>\n",
       "      <th>publishedAt</th>\n",
       "      <th>viewCount</th>\n",
       "      <th>likeCount</th>\n",
       "      <th>commentCount</th>\n",
       "      <th>definition</th>\n",
       "      <th>duration_in_minutes</th>\n",
       "      <th>subscribers</th>\n",
       "      <th>total_views</th>\n",
       "      <th>date</th>\n",
       "      <th>video_count</th>\n",
       "      <th>about</th>\n",
       "      <th>country</th>\n",
       "      <th>comments</th>\n",
       "      <th>like_counts</th>\n",
       "      <th>reply_counts</th>\n",
       "    </tr>\n",
       "  </thead>\n",
       "  <tbody>\n",
       "    <tr>\n",
       "      <th>0</th>\n",
       "      <td>N6dYG0FwFvk</td>\n",
       "      <td>Tribe Gaming</td>\n",
       "      <td>BEST MOMENTS OF TRIBE GAMING! (2022)</td>\n",
       "      <td>TRIBE GAMING - BEST OF 2022! \\n\\n2022 was a he...</td>\n",
       "      <td>['Tribe', 'Tribe Gaming', 'Gaming', 'Mobile', ...</td>\n",
       "      <td>2023-01-17 19:15:01+00:00</td>\n",
       "      <td>45177</td>\n",
       "      <td>2540</td>\n",
       "      <td>292</td>\n",
       "      <td>hd</td>\n",
       "      <td>14.835938</td>\n",
       "      <td>488000</td>\n",
       "      <td>101639693</td>\n",
       "      <td>2017-02-27 00:00:00</td>\n",
       "      <td>453</td>\n",
       "      <td>Mobile gaming content and esports organization...</td>\n",
       "      <td>US</td>\n",
       "      <td>2022 has been amazing. Can’t wait for 2023 Tri...</td>\n",
       "      <td>3</td>\n",
       "      <td>0</td>\n",
       "    </tr>\n",
       "    <tr>\n",
       "      <th>1</th>\n",
       "      <td>N6dYG0FwFvk</td>\n",
       "      <td>Tribe Gaming</td>\n",
       "      <td>BEST MOMENTS OF TRIBE GAMING! (2022)</td>\n",
       "      <td>TRIBE GAMING - BEST OF 2022! \\n\\n2022 was a he...</td>\n",
       "      <td>['Tribe', 'Tribe Gaming', 'Gaming', 'Mobile', ...</td>\n",
       "      <td>2023-01-17 19:15:01+00:00</td>\n",
       "      <td>45177</td>\n",
       "      <td>2540</td>\n",
       "      <td>292</td>\n",
       "      <td>hd</td>\n",
       "      <td>14.835938</td>\n",
       "      <td>488000</td>\n",
       "      <td>101639693</td>\n",
       "      <td>2017-02-27 00:00:00</td>\n",
       "      <td>453</td>\n",
       "      <td>Mobile gaming content and esports organization...</td>\n",
       "      <td>US</td>\n",
       "      <td>3:20 THAT'S WILD 💀💀💀</td>\n",
       "      <td>0</td>\n",
       "      <td>0</td>\n",
       "    </tr>\n",
       "    <tr>\n",
       "      <th>2</th>\n",
       "      <td>N6dYG0FwFvk</td>\n",
       "      <td>Tribe Gaming</td>\n",
       "      <td>BEST MOMENTS OF TRIBE GAMING! (2022)</td>\n",
       "      <td>TRIBE GAMING - BEST OF 2022! \\n\\n2022 was a he...</td>\n",
       "      <td>['Tribe', 'Tribe Gaming', 'Gaming', 'Mobile', ...</td>\n",
       "      <td>2023-01-17 19:15:01+00:00</td>\n",
       "      <td>45177</td>\n",
       "      <td>2540</td>\n",
       "      <td>292</td>\n",
       "      <td>hd</td>\n",
       "      <td>14.835938</td>\n",
       "      <td>488000</td>\n",
       "      <td>101639693</td>\n",
       "      <td>2017-02-27 00:00:00</td>\n",
       "      <td>453</td>\n",
       "      <td>Mobile gaming content and esports organization...</td>\n",
       "      <td>US</td>\n",
       "      <td>I know this is a couple of weeks old, but does...</td>\n",
       "      <td>1</td>\n",
       "      <td>0</td>\n",
       "    </tr>\n",
       "    <tr>\n",
       "      <th>3</th>\n",
       "      <td>N6dYG0FwFvk</td>\n",
       "      <td>Tribe Gaming</td>\n",
       "      <td>BEST MOMENTS OF TRIBE GAMING! (2022)</td>\n",
       "      <td>TRIBE GAMING - BEST OF 2022! \\n\\n2022 was a he...</td>\n",
       "      <td>['Tribe', 'Tribe Gaming', 'Gaming', 'Mobile', ...</td>\n",
       "      <td>2023-01-17 19:15:01+00:00</td>\n",
       "      <td>45177</td>\n",
       "      <td>2540</td>\n",
       "      <td>292</td>\n",
       "      <td>hd</td>\n",
       "      <td>14.835938</td>\n",
       "      <td>488000</td>\n",
       "      <td>101639693</td>\n",
       "      <td>2017-02-27 00:00:00</td>\n",
       "      <td>453</td>\n",
       "      <td>Mobile gaming content and esports organization...</td>\n",
       "      <td>US</td>\n",
       "      <td>I miss Pat</td>\n",
       "      <td>0</td>\n",
       "      <td>0</td>\n",
       "    </tr>\n",
       "    <tr>\n",
       "      <th>4</th>\n",
       "      <td>N6dYG0FwFvk</td>\n",
       "      <td>Tribe Gaming</td>\n",
       "      <td>BEST MOMENTS OF TRIBE GAMING! (2022)</td>\n",
       "      <td>TRIBE GAMING - BEST OF 2022! \\n\\n2022 was a he...</td>\n",
       "      <td>['Tribe', 'Tribe Gaming', 'Gaming', 'Mobile', ...</td>\n",
       "      <td>2023-01-17 19:15:01+00:00</td>\n",
       "      <td>45177</td>\n",
       "      <td>2540</td>\n",
       "      <td>292</td>\n",
       "      <td>hd</td>\n",
       "      <td>14.835938</td>\n",
       "      <td>488000</td>\n",
       "      <td>101639693</td>\n",
       "      <td>2017-02-27 00:00:00</td>\n",
       "      <td>453</td>\n",
       "      <td>Mobile gaming content and esports organization...</td>\n",
       "      <td>US</td>\n",
       "      <td>I miss Pat in these videos.</td>\n",
       "      <td>1</td>\n",
       "      <td>0</td>\n",
       "    </tr>\n",
       "  </tbody>\n",
       "</table>\n",
       "</div>"
      ],
      "text/plain": [
       "      video_id  channelTitle                                 title  \\\n",
       "0  N6dYG0FwFvk  Tribe Gaming  BEST MOMENTS OF TRIBE GAMING! (2022)   \n",
       "1  N6dYG0FwFvk  Tribe Gaming  BEST MOMENTS OF TRIBE GAMING! (2022)   \n",
       "2  N6dYG0FwFvk  Tribe Gaming  BEST MOMENTS OF TRIBE GAMING! (2022)   \n",
       "3  N6dYG0FwFvk  Tribe Gaming  BEST MOMENTS OF TRIBE GAMING! (2022)   \n",
       "4  N6dYG0FwFvk  Tribe Gaming  BEST MOMENTS OF TRIBE GAMING! (2022)   \n",
       "\n",
       "                                         description  \\\n",
       "0  TRIBE GAMING - BEST OF 2022! \\n\\n2022 was a he...   \n",
       "1  TRIBE GAMING - BEST OF 2022! \\n\\n2022 was a he...   \n",
       "2  TRIBE GAMING - BEST OF 2022! \\n\\n2022 was a he...   \n",
       "3  TRIBE GAMING - BEST OF 2022! \\n\\n2022 was a he...   \n",
       "4  TRIBE GAMING - BEST OF 2022! \\n\\n2022 was a he...   \n",
       "\n",
       "                                                tags  \\\n",
       "0  ['Tribe', 'Tribe Gaming', 'Gaming', 'Mobile', ...   \n",
       "1  ['Tribe', 'Tribe Gaming', 'Gaming', 'Mobile', ...   \n",
       "2  ['Tribe', 'Tribe Gaming', 'Gaming', 'Mobile', ...   \n",
       "3  ['Tribe', 'Tribe Gaming', 'Gaming', 'Mobile', ...   \n",
       "4  ['Tribe', 'Tribe Gaming', 'Gaming', 'Mobile', ...   \n",
       "\n",
       "                 publishedAt viewCount likeCount commentCount definition  \\\n",
       "0  2023-01-17 19:15:01+00:00     45177      2540          292         hd   \n",
       "1  2023-01-17 19:15:01+00:00     45177      2540          292         hd   \n",
       "2  2023-01-17 19:15:01+00:00     45177      2540          292         hd   \n",
       "3  2023-01-17 19:15:01+00:00     45177      2540          292         hd   \n",
       "4  2023-01-17 19:15:01+00:00     45177      2540          292         hd   \n",
       "\n",
       "  duration_in_minutes subscribers total_views                 date  \\\n",
       "0           14.835938      488000   101639693  2017-02-27 00:00:00   \n",
       "1           14.835938      488000   101639693  2017-02-27 00:00:00   \n",
       "2           14.835938      488000   101639693  2017-02-27 00:00:00   \n",
       "3           14.835938      488000   101639693  2017-02-27 00:00:00   \n",
       "4           14.835938      488000   101639693  2017-02-27 00:00:00   \n",
       "\n",
       "  video_count                                              about country  \\\n",
       "0         453  Mobile gaming content and esports organization...      US   \n",
       "1         453  Mobile gaming content and esports organization...      US   \n",
       "2         453  Mobile gaming content and esports organization...      US   \n",
       "3         453  Mobile gaming content and esports organization...      US   \n",
       "4         453  Mobile gaming content and esports organization...      US   \n",
       "\n",
       "                                            comments like_counts reply_counts  \n",
       "0  2022 has been amazing. Can’t wait for 2023 Tri...           3            0  \n",
       "1                               3:20 THAT'S WILD 💀💀💀           0            0  \n",
       "2  I know this is a couple of weeks old, but does...           1            0  \n",
       "3                                         I miss Pat           0            0  \n",
       "4                        I miss Pat in these videos.           1            0  "
      ]
     },
     "execution_count": 3,
     "metadata": {},
     "output_type": "execute_result"
    }
   ],
   "source": [
    "df.head()"
   ]
  },
  {
   "cell_type": "markdown",
   "id": "8d71c2d1-bed5-440e-a7c8-4dd52f37eb00",
   "metadata": {
    "jp-MarkdownHeadingCollapsed": true,
    "tags": []
   },
   "source": [
    "##  <center> **Extract <span style=\"color: red\">categorical</span> features**"
   ]
  },
  {
   "cell_type": "markdown",
   "id": "786d86d3-1556-44fc-b2e8-4b85f74ab79f",
   "metadata": {
    "jp-MarkdownHeadingCollapsed": true,
    "tags": []
   },
   "source": [
    "#### *Extract emojies count per text*"
   ]
  },
  {
   "cell_type": "code",
   "execution_count": 4,
   "id": "f4d5ae23-d9c9-4307-811a-366b6cadfd8b",
   "metadata": {},
   "outputs": [],
   "source": [
    "comments_emojis_counts: list = []\n",
    "title_emojis_counts: list = []\n",
    "desc_emojis_counts: list = []\n",
    "\n",
    "for comment, title, desc in zip(df[\"comments\"], df[\"title\"], df[\"description\"]):\n",
    "    \n",
    "    comments_emojis_count: int = 0\n",
    "    title_emojis_count: int = 0\n",
    "    desc_emojis_count: int = 0\n",
    "    \n",
    "    for comment_char, title_char, desc_char in zip(comment, title, desc):\n",
    "        \n",
    "        if emoji.is_emoji(comment_char):\n",
    "            comments_emojis_count += 1\n",
    "            \n",
    "        if emoji.is_emoji(title_char):\n",
    "            title_emojis_count += 1\n",
    "            \n",
    "        if emoji.is_emoji(desc_char):\n",
    "            desc_emojis_count += 1\n",
    "    \n",
    "    comments_emojis_counts.append(comments_emojis_count)\n",
    "    title_emojis_counts.append(title_emojis_count)\n",
    "    desc_emojis_counts.append(desc_emojis_count)"
   ]
  },
  {
   "cell_type": "code",
   "execution_count": 5,
   "id": "ba335f72-df88-4bc3-ace7-27a991b83a6f",
   "metadata": {
    "tags": []
   },
   "outputs": [
    {
     "data": {
      "text/html": [
       "<div>\n",
       "<style scoped>\n",
       "    .dataframe tbody tr th:only-of-type {\n",
       "        vertical-align: middle;\n",
       "    }\n",
       "\n",
       "    .dataframe tbody tr th {\n",
       "        vertical-align: top;\n",
       "    }\n",
       "\n",
       "    .dataframe thead th {\n",
       "        text-align: right;\n",
       "    }\n",
       "</style>\n",
       "<table border=\"1\" class=\"dataframe\">\n",
       "  <thead>\n",
       "    <tr style=\"text-align: right;\">\n",
       "      <th></th>\n",
       "      <th>video_id</th>\n",
       "      <th>channelTitle</th>\n",
       "      <th>title</th>\n",
       "      <th>description</th>\n",
       "      <th>tags</th>\n",
       "      <th>publishedAt</th>\n",
       "      <th>viewCount</th>\n",
       "      <th>likeCount</th>\n",
       "      <th>commentCount</th>\n",
       "      <th>definition</th>\n",
       "      <th>...</th>\n",
       "      <th>date</th>\n",
       "      <th>video_count</th>\n",
       "      <th>about</th>\n",
       "      <th>country</th>\n",
       "      <th>comments</th>\n",
       "      <th>like_counts</th>\n",
       "      <th>reply_counts</th>\n",
       "      <th>comments_emojis_count</th>\n",
       "      <th>title_emojis_count</th>\n",
       "      <th>desc_emojis_count</th>\n",
       "    </tr>\n",
       "  </thead>\n",
       "  <tbody>\n",
       "    <tr>\n",
       "      <th>1961</th>\n",
       "      <td>KL76z3lqycA</td>\n",
       "      <td>Grizzley Gang Gaming</td>\n",
       "      <td>Episode 19.1: A Hacker Extorted Us For $15 Mil...</td>\n",
       "      <td>TEE GRIZZLEY Playing GTA RP\\nEpisode 19.1: Of ...</td>\n",
       "      <td>['tee grizzley gta 5', 'tee grizzley', 'tee gr...</td>\n",
       "      <td>2023-03-07 01:00:08+00:00</td>\n",
       "      <td>174766</td>\n",
       "      <td>3451</td>\n",
       "      <td>524</td>\n",
       "      <td>hd</td>\n",
       "      <td>...</td>\n",
       "      <td>2021-01-19 00:00:00</td>\n",
       "      <td>1306</td>\n",
       "      <td>TEE GRIZZLEY (GRIZZLEY WORLD OWNER):\\nhttps://...</td>\n",
       "      <td>US</td>\n",
       "      <td>1:05:15 the way he fell out the car 😂😂😂</td>\n",
       "      <td>0</td>\n",
       "      <td>0</td>\n",
       "      <td>3</td>\n",
       "      <td>0</td>\n",
       "      <td>0</td>\n",
       "    </tr>\n",
       "    <tr>\n",
       "      <th>870</th>\n",
       "      <td>sLEKloAZalM</td>\n",
       "      <td>Arekkz Gaming</td>\n",
       "      <td>Monster Hunter Rise Sunbreak Title Update 5 Ne...</td>\n",
       "      <td>In this video, we'll be covering the latest ti...</td>\n",
       "      <td>['monster hunter rise', 'monster hunter', 'mon...</td>\n",
       "      <td>2023-03-30 16:00:41+00:00</td>\n",
       "      <td>47506</td>\n",
       "      <td>1190</td>\n",
       "      <td>240</td>\n",
       "      <td>hd</td>\n",
       "      <td>...</td>\n",
       "      <td>2013-01-12 00:00:00</td>\n",
       "      <td>5624</td>\n",
       "      <td>Arekkz Gaming is a gaming YouTube channel dedi...</td>\n",
       "      <td>GB</td>\n",
       "      <td>Jesus Loves all of you guys &lt;3</td>\n",
       "      <td>0</td>\n",
       "      <td>0</td>\n",
       "      <td>0</td>\n",
       "      <td>0</td>\n",
       "      <td>0</td>\n",
       "    </tr>\n",
       "    <tr>\n",
       "      <th>129</th>\n",
       "      <td>T5m2wtRVLYk</td>\n",
       "      <td>kAN Gaming</td>\n",
       "      <td>I Asked a Steam Train Expert to Test my Locomo...</td>\n",
       "      <td>Hey everyone back with more Scrap Mechanic! To...</td>\n",
       "      <td>['kan gaming', 'scrap mechanic', 'scrap mechan...</td>\n",
       "      <td>2023-02-25 00:18:19+00:00</td>\n",
       "      <td>67800</td>\n",
       "      <td>3358</td>\n",
       "      <td>249</td>\n",
       "      <td>hd</td>\n",
       "      <td>...</td>\n",
       "      <td>2016-01-01 00:00:00</td>\n",
       "      <td>1496</td>\n",
       "      <td>Video games for life!\\n\\n\\n</td>\n",
       "      <td>CA</td>\n",
       "      <td>Make a survival servies with hyce</td>\n",
       "      <td>0</td>\n",
       "      <td>0</td>\n",
       "      <td>0</td>\n",
       "      <td>0</td>\n",
       "      <td>0</td>\n",
       "    </tr>\n",
       "    <tr>\n",
       "      <th>1232</th>\n",
       "      <td>g-TJep_SvlI</td>\n",
       "      <td>Kitt Gaming</td>\n",
       "      <td>Luckiest Fruit Notifier In Blox Fruits</td>\n",
       "      <td>Check out the Full VIDEO: https://www.youtube....</td>\n",
       "      <td>['blox fruits', 'blox fruit', 'Blox fruit live...</td>\n",
       "      <td>2023-01-20 02:00:22+00:00</td>\n",
       "      <td>1002750</td>\n",
       "      <td>69194</td>\n",
       "      <td>1429</td>\n",
       "      <td>hd</td>\n",
       "      <td>...</td>\n",
       "      <td>2012-10-05 00:00:00</td>\n",
       "      <td>333</td>\n",
       "      <td>We Love Blox Fruits Roblox, Jiu-Jitsu And Food...</td>\n",
       "      <td>US</td>\n",
       "      <td>Omg kittgaming like me😍 am big fan❤</td>\n",
       "      <td>0</td>\n",
       "      <td>0</td>\n",
       "      <td>2</td>\n",
       "      <td>0</td>\n",
       "      <td>0</td>\n",
       "    </tr>\n",
       "    <tr>\n",
       "      <th>1804</th>\n",
       "      <td>Thrcx6E-AqQ</td>\n",
       "      <td>الجندي جيمنج _ELGENDY GAMING</td>\n",
       "      <td>شرح حدث دوري الابطال ب التفصيل✅ ومكان توكن UCL🤯</td>\n",
       "      <td>شرح حدث دوري الابطال ب التفصيل✅ ومكان توكن UCL...</td>\n",
       "      <td>['شرح حدث دوري ابطال اوروبا فيفا 21 موبايل', '...</td>\n",
       "      <td>2023-03-30 20:31:55+00:00</td>\n",
       "      <td>9720</td>\n",
       "      <td>842</td>\n",
       "      <td>158</td>\n",
       "      <td>hd</td>\n",
       "      <td>...</td>\n",
       "      <td>2021-06-23 00:00:00</td>\n",
       "      <td>773</td>\n",
       "      <td>عمر الجندي👑 فيفا موبايل - تقريبا يومى كله فيفا...</td>\n",
       "      <td>EG</td>\n",
       "      <td>الإعلان عندي مقفل وانا ما فتحته وتحدث</td>\n",
       "      <td>0</td>\n",
       "      <td>0</td>\n",
       "      <td>0</td>\n",
       "      <td>1</td>\n",
       "      <td>1</td>\n",
       "    </tr>\n",
       "  </tbody>\n",
       "</table>\n",
       "<p>5 rows × 23 columns</p>\n",
       "</div>"
      ],
      "text/plain": [
       "         video_id                  channelTitle  \\\n",
       "1961  KL76z3lqycA          Grizzley Gang Gaming   \n",
       "870   sLEKloAZalM                 Arekkz Gaming   \n",
       "129   T5m2wtRVLYk                    kAN Gaming   \n",
       "1232  g-TJep_SvlI                   Kitt Gaming   \n",
       "1804  Thrcx6E-AqQ  الجندي جيمنج _ELGENDY GAMING   \n",
       "\n",
       "                                                  title  \\\n",
       "1961  Episode 19.1: A Hacker Extorted Us For $15 Mil...   \n",
       "870   Monster Hunter Rise Sunbreak Title Update 5 Ne...   \n",
       "129   I Asked a Steam Train Expert to Test my Locomo...   \n",
       "1232             Luckiest Fruit Notifier In Blox Fruits   \n",
       "1804    شرح حدث دوري الابطال ب التفصيل✅ ومكان توكن UCL🤯   \n",
       "\n",
       "                                            description  \\\n",
       "1961  TEE GRIZZLEY Playing GTA RP\\nEpisode 19.1: Of ...   \n",
       "870   In this video, we'll be covering the latest ti...   \n",
       "129   Hey everyone back with more Scrap Mechanic! To...   \n",
       "1232  Check out the Full VIDEO: https://www.youtube....   \n",
       "1804  شرح حدث دوري الابطال ب التفصيل✅ ومكان توكن UCL...   \n",
       "\n",
       "                                                   tags  \\\n",
       "1961  ['tee grizzley gta 5', 'tee grizzley', 'tee gr...   \n",
       "870   ['monster hunter rise', 'monster hunter', 'mon...   \n",
       "129   ['kan gaming', 'scrap mechanic', 'scrap mechan...   \n",
       "1232  ['blox fruits', 'blox fruit', 'Blox fruit live...   \n",
       "1804  ['شرح حدث دوري ابطال اوروبا فيفا 21 موبايل', '...   \n",
       "\n",
       "                    publishedAt viewCount likeCount commentCount definition  \\\n",
       "1961  2023-03-07 01:00:08+00:00    174766      3451          524         hd   \n",
       "870   2023-03-30 16:00:41+00:00     47506      1190          240         hd   \n",
       "129   2023-02-25 00:18:19+00:00     67800      3358          249         hd   \n",
       "1232  2023-01-20 02:00:22+00:00   1002750     69194         1429         hd   \n",
       "1804  2023-03-30 20:31:55+00:00      9720       842          158         hd   \n",
       "\n",
       "      ...                 date video_count  \\\n",
       "1961  ...  2021-01-19 00:00:00        1306   \n",
       "870   ...  2013-01-12 00:00:00        5624   \n",
       "129   ...  2016-01-01 00:00:00        1496   \n",
       "1232  ...  2012-10-05 00:00:00         333   \n",
       "1804  ...  2021-06-23 00:00:00         773   \n",
       "\n",
       "                                                  about country  \\\n",
       "1961  TEE GRIZZLEY (GRIZZLEY WORLD OWNER):\\nhttps://...      US   \n",
       "870   Arekkz Gaming is a gaming YouTube channel dedi...      GB   \n",
       "129                         Video games for life!\\n\\n\\n      CA   \n",
       "1232  We Love Blox Fruits Roblox, Jiu-Jitsu And Food...      US   \n",
       "1804  عمر الجندي👑 فيفا موبايل - تقريبا يومى كله فيفا...      EG   \n",
       "\n",
       "                                     comments like_counts reply_counts  \\\n",
       "1961  1:05:15 the way he fell out the car 😂😂😂           0            0   \n",
       "870            Jesus Loves all of you guys <3           0            0   \n",
       "129         Make a survival servies with hyce           0            0   \n",
       "1232      Omg kittgaming like me😍 am big fan❤           0            0   \n",
       "1804    الإعلان عندي مقفل وانا ما فتحته وتحدث           0            0   \n",
       "\n",
       "     comments_emojis_count title_emojis_count desc_emojis_count  \n",
       "1961                     3                  0                 0  \n",
       "870                      0                  0                 0  \n",
       "129                      0                  0                 0  \n",
       "1232                     2                  0                 0  \n",
       "1804                     0                  1                 1  \n",
       "\n",
       "[5 rows x 23 columns]"
      ]
     },
     "execution_count": 5,
     "metadata": {},
     "output_type": "execute_result"
    }
   ],
   "source": [
    "df[\"comments_emojis_count\"] = comments_emojis_counts\n",
    "df[\"title_emojis_count\"] = title_emojis_counts\n",
    "df[\"desc_emojis_count\"] = desc_emojis_counts\n",
    "\n",
    "df.sample(5)"
   ]
  },
  {
   "cell_type": "markdown",
   "id": "4d487f5b-5b6f-4b93-8fd3-0079446e4a74",
   "metadata": {
    "jp-MarkdownHeadingCollapsed": true,
    "tags": []
   },
   "source": [
    "#### *Language detection*"
   ]
  },
  {
   "cell_type": "code",
   "execution_count": 6,
   "id": "4d3385b1-79ec-42f1-9a2b-de5b3801a91e",
   "metadata": {
    "tags": []
   },
   "outputs": [],
   "source": [
    "language_detector = transformers.pipeline(\"text-classification\",\n",
    "                                          model=\"papluca/xlm-roberta-base-language-detection\",\n",
    "                                          use_auth_token= True)"
   ]
  },
  {
   "cell_type": "code",
   "execution_count": 7,
   "id": "dbcab35d-9a81-487f-87dd-962631a5109b",
   "metadata": {
    "tags": []
   },
   "outputs": [
    {
     "name": "stderr",
     "output_type": "stream",
     "text": [
      "Truncation was not explicitly activated but `max_length` is provided a specific value, please use `truncation=True` to explicitly truncate examples to max length. Defaulting to 'longest_first' truncation strategy. If you encode pairs of sequences (GLUE-style) with the tokenizer you can select this strategy more precisely by providing a specific strategy to `truncation`.\n"
     ]
    },
    {
     "name": "stdout",
     "output_type": "stream",
     "text": [
      "[{'label': 'ar', 'score': 0.9917784333229065}]\n",
      "[{'label': 'ar', 'score': 0.9917784333229065}]\n",
      "[{'label': 'ar', 'score': 0.9917784333229065}]\n",
      "[{'label': 'ar', 'score': 0.9917784333229065}]\n",
      "[{'label': 'ar', 'score': 0.9917784333229065}]\n",
      "[{'label': 'ar', 'score': 0.9917784333229065}]\n",
      "[{'label': 'ar', 'score': 0.9917784333229065}]\n",
      "[{'label': 'ar', 'score': 0.9917784333229065}]\n",
      "2.03 s ± 133 ms per loop (mean ± std. dev. of 7 runs, 1 loop each)\n"
     ]
    }
   ],
   "source": [
    "%%timeit\n",
    "print(language_detector(\"هذا أطول نص قد تقرأه على الإطلاق إنه طويل للغاية\", max_length=128))"
   ]
  },
  {
   "cell_type": "markdown",
   "id": "860e40b4-01c6-478f-8672-219a5cb73e0a",
   "metadata": {},
   "source": [
    "Looks like we will take a lot to <ins>just classify the language</ins> of each text at least: $30\\times100$ second whitch equalls <span style=\"color: red\">**50 minutes.**</span><br>\n",
    "So we can't do translation for now becuase it at least may take **5 hours** to run so we will just use this language detetion and<br>\n",
    "optimize it by just sellecting one text column to detect which will be **Description column** and use the detected languages to<br>\n",
    "pridect video and comments language.<br><br>\n",
    "But we will detect the language using the **country of this video**"
   ]
  },
  {
   "cell_type": "code",
   "execution_count": 8,
   "id": "ae48b629-95cc-437f-8bfc-87095cfd1382",
   "metadata": {
    "tags": []
   },
   "outputs": [
    {
     "data": {
      "text/plain": [
       "array(['US', 'GB', 'CA', 'AU', 'IN', 'IT', 'PK', 'DZ', 'FR', 'TH', 'TW',\n",
       "       'BG', 'DE', 'SA', 'PH', 'KR', 'BD', 'NP', 'SG', 'BR', 'EG'],\n",
       "      dtype=object)"
      ]
     },
     "execution_count": 8,
     "metadata": {},
     "output_type": "execute_result"
    }
   ],
   "source": [
    "df[\"country\"].unique()"
   ]
  },
  {
   "cell_type": "code",
   "execution_count": 9,
   "id": "5e744162-5f9c-42e1-b6c2-09fd07d179d7",
   "metadata": {
    "tags": []
   },
   "outputs": [],
   "source": [
    "country_languages = {\n",
    "    'US': 'English',\n",
    "    'GB': 'English',\n",
    "    'CA': 'English',\n",
    "    'AU': 'English',\n",
    "    'IN': 'Hindi',\n",
    "    'IT': 'Italian',\n",
    "    'PK': 'Urdu',\n",
    "    'DZ': 'Arabic',\n",
    "    'FR': 'French',\n",
    "    'TH': 'Thai',\n",
    "    'TW': 'Chinese',\n",
    "    'BG': 'Bulgarian',\n",
    "    'DE': 'German',\n",
    "    'SA': 'Arabic',\n",
    "    'PH': 'Tagalog',\n",
    "    'KR': 'Korean',\n",
    "    'BD': 'Bengali',\n",
    "    'NP': 'Nepali',\n",
    "    'SG': 'English',\n",
    "    'BR': 'Portuguese',\n",
    "    'EG': 'Arabic'}\n",
    "\n",
    "df[\"language\"] = df[\"country\"].replace(country_languages)"
   ]
  },
  {
   "cell_type": "markdown",
   "id": "9f846902-adaa-4678-b296-f49c5459e4a4",
   "metadata": {},
   "source": [
    "This wy may not be so accurate in detecting languages becuase there are some **indian videos** specifically with english and<br>\n",
    "because some commetns come in deffrint languages but at least this way is more accurate than `roberta-language-detection`<br>\n",
    "model because this model sometimes come with wierd "
   ]
  },
  {
   "cell_type": "markdown",
   "id": "1090791f-b041-44a6-90a6-75f463aec37b",
   "metadata": {
    "tags": []
   },
   "source": [
    "#### *Sentiment analysis*"
   ]
  },
  {
   "cell_type": "code",
   "execution_count": 10,
   "id": "840cb75c-2375-45d3-b354-fdfb69ec45ba",
   "metadata": {
    "tags": []
   },
   "outputs": [
    {
     "data": {
      "application/vnd.jupyter.widget-view+json": {
       "model_id": "2635594db9474841a2a89b5a947a57ca",
       "version_major": 2,
       "version_minor": 0
      },
      "text/plain": [
       "Downloading:   0%|          | 0.00/2.70k [00:00<?, ?B/s]"
      ]
     },
     "metadata": {},
     "output_type": "display_data"
    },
    {
     "name": "stdout",
     "output_type": "stream",
     "text": [
      "[{'label': 'POS', 'score': 0.9883897304534912}]\n"
     ]
    }
   ],
   "source": [
    "sentiment_classifier = transformers.pipeline(model= \"finiteautomata/bertweet-base-sentiment-analysis\")\n",
    "print(sentiment_classifier(\"Hello here in my analysis, Have a nice day !!\"))"
   ]
  },
  {
   "cell_type": "code",
   "execution_count": 11,
   "id": "7dcc8fbc-0843-4077-a6b4-d6c83abc7b9b",
   "metadata": {},
   "outputs": [],
   "source": [
    "def my_sentiment_classifier(text: str) -> np.int8:\n",
    "    \"\"\"This code takes a text and return you if it's positive\n",
    "        or negative as 1 for positive, 0 for natural -1 for negative\n",
    "        and -10 for unclassified.\n",
    "    \n",
    "    @params: a string text\n",
    "    @return: 1, 0 or -1 in np.int8 dtype\"\"\"\n",
    "    \n",
    "    sentiment_type_encoder: dict = {\"POS\": 1,\n",
    "                                    \"NEG\": -1,\n",
    "                                    \"NEU\": 0,\n",
    "                                    \"unclassified\": -10}\n",
    "    \n",
    "    try:\n",
    "        sentiment_type: str = sentiment_classifier(text)[0][\"label\"]\n",
    "        \n",
    "    except:\n",
    "        sentiment_type: str = \"unclassified\"\n",
    "        \n",
    "    return  np.int8(sentiment_type_encoder[sentiment_type])"
   ]
  },
  {
   "cell_type": "code",
   "execution_count": 12,
   "id": "d8916528-4171-4ede-9e99-ff4b3b9ae9ce",
   "metadata": {
    "tags": []
   },
   "outputs": [],
   "source": [
    "df[\"sentiments\"] = df[\"comments\"][:5].apply(\n",
    "    lambda x: my_sentiment_classifier(x))"
   ]
  },
  {
   "cell_type": "code",
   "execution_count": 13,
   "id": "d056e4ad-fc7e-42bc-9bb1-dca16fed8e4c",
   "metadata": {
    "tags": []
   },
   "outputs": [
    {
     "data": {
      "text/html": [
       "<div>\n",
       "<style scoped>\n",
       "    .dataframe tbody tr th:only-of-type {\n",
       "        vertical-align: middle;\n",
       "    }\n",
       "\n",
       "    .dataframe tbody tr th {\n",
       "        vertical-align: top;\n",
       "    }\n",
       "\n",
       "    .dataframe thead th {\n",
       "        text-align: right;\n",
       "    }\n",
       "</style>\n",
       "<table border=\"1\" class=\"dataframe\">\n",
       "  <thead>\n",
       "    <tr style=\"text-align: right;\">\n",
       "      <th></th>\n",
       "      <th>sentiments</th>\n",
       "      <th>comments</th>\n",
       "    </tr>\n",
       "  </thead>\n",
       "  <tbody>\n",
       "    <tr>\n",
       "      <th>0</th>\n",
       "      <td>1.0</td>\n",
       "      <td>2022 has been amazing. Can’t wait for 2023 Tri...</td>\n",
       "    </tr>\n",
       "    <tr>\n",
       "      <th>1</th>\n",
       "      <td>0.0</td>\n",
       "      <td>3:20 THAT'S WILD 💀💀💀</td>\n",
       "    </tr>\n",
       "    <tr>\n",
       "      <th>2</th>\n",
       "      <td>0.0</td>\n",
       "      <td>I know this is a couple of weeks old, but does...</td>\n",
       "    </tr>\n",
       "    <tr>\n",
       "      <th>3</th>\n",
       "      <td>1.0</td>\n",
       "      <td>I miss Pat</td>\n",
       "    </tr>\n",
       "    <tr>\n",
       "      <th>4</th>\n",
       "      <td>1.0</td>\n",
       "      <td>I miss Pat in these videos.</td>\n",
       "    </tr>\n",
       "    <tr>\n",
       "      <th>...</th>\n",
       "      <td>...</td>\n",
       "      <td>...</td>\n",
       "    </tr>\n",
       "    <tr>\n",
       "      <th>2035</th>\n",
       "      <td>NaN</td>\n",
       "      <td>The mafia 💙💙ko bulau</td>\n",
       "    </tr>\n",
       "    <tr>\n",
       "      <th>2036</th>\n",
       "      <td>NaN</td>\n",
       "      <td>Tu khali bakchodi hi karta he kiya .. game pla...</td>\n",
       "    </tr>\n",
       "    <tr>\n",
       "      <th>2037</th>\n",
       "      <td>NaN</td>\n",
       "      <td>Tufan is good 😊</td>\n",
       "    </tr>\n",
       "    <tr>\n",
       "      <th>2038</th>\n",
       "      <td>NaN</td>\n",
       "      <td>very nice video❤❤❤</td>\n",
       "    </tr>\n",
       "    <tr>\n",
       "      <th>2039</th>\n",
       "      <td>NaN</td>\n",
       "      <td>❤❤❤❤</td>\n",
       "    </tr>\n",
       "  </tbody>\n",
       "</table>\n",
       "<p>2040 rows × 2 columns</p>\n",
       "</div>"
      ],
      "text/plain": [
       "      sentiments                                           comments\n",
       "0            1.0  2022 has been amazing. Can’t wait for 2023 Tri...\n",
       "1            0.0                               3:20 THAT'S WILD 💀💀💀\n",
       "2            0.0  I know this is a couple of weeks old, but does...\n",
       "3            1.0                                         I miss Pat\n",
       "4            1.0                        I miss Pat in these videos.\n",
       "...          ...                                                ...\n",
       "2035         NaN                               The mafia 💙💙ko bulau\n",
       "2036         NaN  Tu khali bakchodi hi karta he kiya .. game pla...\n",
       "2037         NaN                                    Tufan is good 😊\n",
       "2038         NaN                                 very nice video❤❤❤\n",
       "2039         NaN                                               ❤❤❤❤\n",
       "\n",
       "[2040 rows x 2 columns]"
      ]
     },
     "execution_count": 13,
     "metadata": {},
     "output_type": "execute_result"
    }
   ],
   "source": [
    "df[[\"sentiments\", \"comments\"]]"
   ]
  },
  {
   "cell_type": "markdown",
   "id": "81007d35-99d7-4b33-b066-e58fda430082",
   "metadata": {},
   "source": [
    "## <center><strong>Text visualiztion with<span style = \"color: red\"> WordCloud</span></strong></center>"
   ]
  },
  {
   "cell_type": "code",
   "execution_count": 31,
   "id": "bb11cf8d-2669-4851-85ab-51e7bdfb3827",
   "metadata": {
    "tags": []
   },
   "outputs": [],
   "source": [
    "coloring = np.array(Image.open(\"../imgs/youtube_gaming_logo.png\"))\n",
    "stopwords = set(STOPWORDS)\n",
    "\n",
    "comments = ''.join(df[\"comments\"].values.flatten())"
   ]
  },
  {
   "cell_type": "code",
   "execution_count": 42,
   "id": "135ea87b-5990-47ee-9840-358f2ca2b06c",
   "metadata": {
    "tags": []
   },
   "outputs": [
    {
     "ename": "NotImplementedError",
     "evalue": "Gray-scale images TODO",
     "output_type": "error",
     "traceback": [
      "\u001b[1;31m---------------------------------------------------------------------------\u001b[0m",
      "\u001b[1;31mNotImplementedError\u001b[0m                       Traceback (most recent call last)",
      "Cell \u001b[1;32mIn[42], line 11\u001b[0m\n\u001b[0;32m      7\u001b[0m fig, axes \u001b[38;5;241m=\u001b[39m plt\u001b[38;5;241m.\u001b[39msubplots(\u001b[38;5;241m1\u001b[39m, \u001b[38;5;241m3\u001b[39m)\n\u001b[0;32m      8\u001b[0m axes[\u001b[38;5;241m0\u001b[39m]\u001b[38;5;241m.\u001b[39mimshow(wc, interpolation\u001b[38;5;241m=\u001b[39m\u001b[38;5;124m\"\u001b[39m\u001b[38;5;124mbilinear\u001b[39m\u001b[38;5;124m\"\u001b[39m)\n\u001b[1;32m---> 11\u001b[0m axes[\u001b[38;5;241m1\u001b[39m]\u001b[38;5;241m.\u001b[39mimshow(\u001b[43mwc\u001b[49m\u001b[38;5;241;43m.\u001b[39;49m\u001b[43mrecolor\u001b[49m\u001b[43m(\u001b[49m\u001b[43mcolor_func\u001b[49m\u001b[38;5;241;43m=\u001b[39;49m\u001b[43m \u001b[49m\u001b[43mimage_colors\u001b[49m\u001b[43m)\u001b[49m, interpolation\u001b[38;5;241m=\u001b[39m\u001b[38;5;124m\"\u001b[39m\u001b[38;5;124mbilinear\u001b[39m\u001b[38;5;124m\"\u001b[39m)\n\u001b[0;32m     12\u001b[0m axes[\u001b[38;5;241m2\u001b[39m]\u001b[38;5;241m.\u001b[39mimshow(coloring, cmap\u001b[38;5;241m=\u001b[39m plt\u001b[38;5;241m.\u001b[39mcm\u001b[38;5;241m.\u001b[39mgray, interpolation\u001b[38;5;241m=\u001b[39m\u001b[38;5;124m\"\u001b[39m\u001b[38;5;124mbilinear\u001b[39m\u001b[38;5;124m\"\u001b[39m)\n\u001b[0;32m     13\u001b[0m \u001b[38;5;28;01mfor\u001b[39;00m ax \u001b[38;5;129;01min\u001b[39;00m axes:\n",
      "File \u001b[1;32m~\\AppData\\Roaming\\Python\\Python39\\site-packages\\wordcloud\\wordcloud.py:703\u001b[0m, in \u001b[0;36mWordCloud.recolor\u001b[1;34m(self, random_state, color_func, colormap)\u001b[0m\n\u001b[0;32m    701\u001b[0m     \u001b[38;5;28;01melse\u001b[39;00m:\n\u001b[0;32m    702\u001b[0m         color_func \u001b[38;5;241m=\u001b[39m colormap_color_func(colormap)\n\u001b[1;32m--> 703\u001b[0m \u001b[38;5;28mself\u001b[39m\u001b[38;5;241m.\u001b[39mlayout_ \u001b[38;5;241m=\u001b[39m [(word_freq, font_size, position, orientation,\n\u001b[0;32m    704\u001b[0m                  color_func(word\u001b[38;5;241m=\u001b[39mword_freq[\u001b[38;5;241m0\u001b[39m], font_size\u001b[38;5;241m=\u001b[39mfont_size,\n\u001b[0;32m    705\u001b[0m                             position\u001b[38;5;241m=\u001b[39mposition, orientation\u001b[38;5;241m=\u001b[39morientation,\n\u001b[0;32m    706\u001b[0m                             random_state\u001b[38;5;241m=\u001b[39mrandom_state,\n\u001b[0;32m    707\u001b[0m                             font_path\u001b[38;5;241m=\u001b[39m\u001b[38;5;28mself\u001b[39m\u001b[38;5;241m.\u001b[39mfont_path))\n\u001b[0;32m    708\u001b[0m                 \u001b[38;5;28;01mfor\u001b[39;00m word_freq, font_size, position, orientation, _\n\u001b[0;32m    709\u001b[0m                 \u001b[38;5;129;01min\u001b[39;00m \u001b[38;5;28mself\u001b[39m\u001b[38;5;241m.\u001b[39mlayout_]\n\u001b[0;32m    710\u001b[0m \u001b[38;5;28;01mreturn\u001b[39;00m \u001b[38;5;28mself\u001b[39m\n",
      "File \u001b[1;32m~\\AppData\\Roaming\\Python\\Python39\\site-packages\\wordcloud\\wordcloud.py:704\u001b[0m, in \u001b[0;36m<listcomp>\u001b[1;34m(.0)\u001b[0m\n\u001b[0;32m    701\u001b[0m     \u001b[38;5;28;01melse\u001b[39;00m:\n\u001b[0;32m    702\u001b[0m         color_func \u001b[38;5;241m=\u001b[39m colormap_color_func(colormap)\n\u001b[0;32m    703\u001b[0m \u001b[38;5;28mself\u001b[39m\u001b[38;5;241m.\u001b[39mlayout_ \u001b[38;5;241m=\u001b[39m [(word_freq, font_size, position, orientation,\n\u001b[1;32m--> 704\u001b[0m                  \u001b[43mcolor_func\u001b[49m\u001b[43m(\u001b[49m\u001b[43mword\u001b[49m\u001b[38;5;241;43m=\u001b[39;49m\u001b[43mword_freq\u001b[49m\u001b[43m[\u001b[49m\u001b[38;5;241;43m0\u001b[39;49m\u001b[43m]\u001b[49m\u001b[43m,\u001b[49m\u001b[43m \u001b[49m\u001b[43mfont_size\u001b[49m\u001b[38;5;241;43m=\u001b[39;49m\u001b[43mfont_size\u001b[49m\u001b[43m,\u001b[49m\n\u001b[0;32m    705\u001b[0m \u001b[43m                            \u001b[49m\u001b[43mposition\u001b[49m\u001b[38;5;241;43m=\u001b[39;49m\u001b[43mposition\u001b[49m\u001b[43m,\u001b[49m\u001b[43m \u001b[49m\u001b[43morientation\u001b[49m\u001b[38;5;241;43m=\u001b[39;49m\u001b[43morientation\u001b[49m\u001b[43m,\u001b[49m\n\u001b[0;32m    706\u001b[0m \u001b[43m                            \u001b[49m\u001b[43mrandom_state\u001b[49m\u001b[38;5;241;43m=\u001b[39;49m\u001b[43mrandom_state\u001b[49m\u001b[43m,\u001b[49m\n\u001b[0;32m    707\u001b[0m \u001b[43m                            \u001b[49m\u001b[43mfont_path\u001b[49m\u001b[38;5;241;43m=\u001b[39;49m\u001b[38;5;28;43mself\u001b[39;49m\u001b[38;5;241;43m.\u001b[39;49m\u001b[43mfont_path\u001b[49m\u001b[43m)\u001b[49m)\n\u001b[0;32m    708\u001b[0m                 \u001b[38;5;28;01mfor\u001b[39;00m word_freq, font_size, position, orientation, _\n\u001b[0;32m    709\u001b[0m                 \u001b[38;5;129;01min\u001b[39;00m \u001b[38;5;28mself\u001b[39m\u001b[38;5;241m.\u001b[39mlayout_]\n\u001b[0;32m    710\u001b[0m \u001b[38;5;28;01mreturn\u001b[39;00m \u001b[38;5;28mself\u001b[39m\n",
      "File \u001b[1;32m~\\AppData\\Roaming\\Python\\Python39\\site-packages\\wordcloud\\color_from_image.py:50\u001b[0m, in \u001b[0;36mImageColorGenerator.__call__\u001b[1;34m(self, word, font_size, font_path, position, orientation, **kwargs)\u001b[0m\n\u001b[0;32m     48\u001b[0m     patch \u001b[38;5;241m=\u001b[39m patch[:, :, :\u001b[38;5;241m3\u001b[39m]\n\u001b[0;32m     49\u001b[0m \u001b[38;5;28;01mif\u001b[39;00m patch\u001b[38;5;241m.\u001b[39mndim \u001b[38;5;241m==\u001b[39m \u001b[38;5;241m2\u001b[39m:\n\u001b[1;32m---> 50\u001b[0m     \u001b[38;5;28;01mraise\u001b[39;00m \u001b[38;5;167;01mNotImplementedError\u001b[39;00m(\u001b[38;5;124m\"\u001b[39m\u001b[38;5;124mGray-scale images TODO\u001b[39m\u001b[38;5;124m\"\u001b[39m)\n\u001b[0;32m     51\u001b[0m \u001b[38;5;66;03m# check if the text is within the bounds of the image\u001b[39;00m\n\u001b[0;32m     52\u001b[0m reshape \u001b[38;5;241m=\u001b[39m patch\u001b[38;5;241m.\u001b[39mreshape(\u001b[38;5;241m-\u001b[39m\u001b[38;5;241m1\u001b[39m, \u001b[38;5;241m3\u001b[39m)\n",
      "\u001b[1;31mNotImplementedError\u001b[0m: Gray-scale images TODO"
     ]
    },
    {
     "data": {
      "image/png": "[encoded data removed]",
      "text/plain": [
       "<Figure size 640x480 with 3 Axes>"
      ]
     },
     "metadata": {},
     "output_type": "display_data"
    }
   ],
   "source": [
    "wc = WordCloud(background_color= \"darkgrey\", max_words= 2000, mask= coloring,\n",
    "               stopwords= stopwords, max_font_size= 40, random_state= 42)\n",
    "\n",
    "wc.generate(comments)\n",
    "image_colors = ImageColorGenerator(np.array(coloring))\n",
    "\n",
    "fig, axes = plt.subplots(1, 3)\n",
    "axes[0].imshow(wc, interpolation=\"bilinear\")\n",
    "\n",
    "\n",
    "axes[1].imshow(wc.recolor(color_func= image_colors), interpolation=\"bilinear\")\n",
    "axes[2].imshow(coloring, cmap= plt.cm.gray, interpolation=\"bilinear\")\n",
    "for ax in axes:\n",
    "    ax.set_axis_off()\n",
    "    \n",
    "plt.show()"
   ]
  },
  {
   "cell_type": "code",
   "execution_count": 34,
   "id": "8963b8e4-9f3b-4bd6-8a5f-c193b5cf6e30",
   "metadata": {
    "tags": []
   },
   "outputs": [
    {
     "data": {
      "text/plain": [
       "\"2022 has been amazing. Can’t wait for 2023 Tribe!! ❤❤❤❤3:20 THAT'S WILD 💀💀💀I know this is a couple of weeks old, but does anyone know why people like Corey and Tom haven't been on recentlyI miss PatI miss Pat in these videos.I'm trying to spead this message it's the most important one of your lives the second coming of Jesus is near please worship  Jesus for He is the only way to go to Heaven AmenLateNubbz should be in TribeOmg am a huge fan of tribe and oh but This vid intro just is on a whole other levelPat needs to get off his vacation. Haven’t seen him in a while 😂Quick suggestion! You guys should play some smash bros for the switch would be awesome content to watch and thanks for all the memorable moments in 2022!!Tribe assemble againU guys are the best. Since im playing brawl i always watch ur content not only tribe but of each one of yoursWe need drage  cheif pat and Wassem backWere is carbfinWhat type of content are you looking forward to in 2023? 👀idea: Carl Cart\\neveryone play\""
      ]
     },
     "execution_count": 34,
     "metadata": {},
     "output_type": "execute_result"
    }
   ],
   "source": [
    "comments[:1000]"
   ]
  },
  {
   "cell_type": "code",
   "execution_count": null,
   "id": "ee4441f9-4412-45ab-841e-c4db9b21e0de",
   "metadata": {},
   "outputs": [],
   "source": []
  }
 ],
 "metadata": {
  "kernelspec": {
   "display_name": "Python 3 (ipykernel)",
   "language": "python",
   "name": "python3"
  },
  "language_info": {
   "codemirror_mode": {
    "name": "ipython",
    "version": 3
   },
   "file_extension": ".py",
   "mimetype": "text/x-python",
   "name": "python",
   "nbconvert_exporter": "python",
   "pygments_lexer": "ipython3",
   "version": "3.9.16"
  }
 },
 "nbformat": 4,
 "nbformat_minor": 5
}
