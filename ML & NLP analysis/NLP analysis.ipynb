{
 "cells": [
  {
   "cell_type": "markdown",
   "id": "b6318496-bd86-4156-9895-08f1d3dd4843",
   "metadata": {
    "tags": []
   },
   "source": [
    "## <center> **<span style=\"color: red\">NLP</span> steps and explnation.**"
   ]
  },
  {
   "cell_type": "markdown",
   "id": "534d6f47-3167-4401-9713-9bf09824a225",
   "metadata": {},
   "source": [
    "Here we will use <span style=\"color: #ffd21e\">**Hugging face**</span> trasformers pre trained models becuase it'll take so much effort to label<br>\n",
    "all of our text columns \"<ins>Comments, Describtion, Title</ins>\" and also we will extract categorical and numirecal<br>\n",
    "features from the text columns.<br><br>\n",
    "\n",
    "##### **Steps in detail:**\n",
    "<ul>\n",
    "    <li>Extract categorical features from text columns sush as:<ol> \n",
    "        <li>Contains emojies\n",
    "        <li>Positive or negative\n",
    "        <li>language\n",
    "        <li>typos</ol>\n",
    "    <li> Doing analysis for most common words in comments and titles\n",
    "    <li> Extracing the length of the comments, descriptions & titles\n",
    "    <li> Saving those new data into new <strong>one</strong> Df to use in the final ML model"
   ]
  },
  {
   "cell_type": "markdown",
   "id": "8cb66a5d-927b-4f7e-9cb4-16c09f5fa91f",
   "metadata": {
    "tags": []
   },
   "source": [
    "## <center> **Importing the <span style=\"color: red\">Packeges</span>**"
   ]
  },
  {
   "cell_type": "code",
   "execution_count": 1,
   "id": "e5ee00c6-0b2a-49ca-b100-17a23aeeb885",
   "metadata": {
    "tags": []
   },
   "outputs": [
    {
     "data": {
      "application/vnd.jupyter.widget-view+json": {
       "model_id": "9c70b3534ba04a91a882d1ecc6707a58",
       "version_major": 2,
       "version_minor": 0
      },
      "text/plain": [
       "VBox(children=(HTML(value='<center> <img\\nsrc=https://huggingface.co/front/assets/huggingface_logo-noborder.sv…"
      ]
     },
     "metadata": {},
     "output_type": "display_data"
    }
   ],
   "source": [
    "import os\n",
    "import nltk\n",
    "import emoji\n",
    "import sqlite3\n",
    "import pandas as pd\n",
    "import numpy as np\n",
    "import wordcloud\n",
    "import transformers\n",
    "import huggingface_hub\n",
    "\n",
    "huggingface_hub.notebook_login()"
   ]
  },
  {
   "cell_type": "markdown",
   "id": "fce01ab5-a514-4ed8-8bdc-d57b5e8bb339",
   "metadata": {
    "tags": []
   },
   "source": [
    "## <center> **Reading the <span style=\"color: red\">data</span>**"
   ]
  },
  {
   "cell_type": "code",
   "execution_count": 8,
   "id": "8eb06258-74c7-43e6-b028-b047ec4bd479",
   "metadata": {
    "tags": []
   },
   "outputs": [],
   "source": [
    "con = sqlite3.connect('../database.db')\n",
    "\n",
    "df = pd.read_sql_query(\"\"\"   \n",
    "                        \n",
    "                        SELECT *\n",
    "                        FROM base_videos AS bv\n",
    "\n",
    "                        INNER JOIN base_channels  AS bc ON\n",
    "                            bc.channel_name = bv.channelTitle\n",
    "\n",
    "                        INNER JOIN comments  AS c ON\n",
    "                            c.video_id = bv.video_id\"\"\", con)\n",
    "\n",
    "con.close()\n",
    "\n",
    "df = df.T.drop_duplicates().T"
   ]
  },
  {
   "cell_type": "code",
   "execution_count": 9,
   "id": "4882caaa-3d9d-4d46-927e-0e6465db004a",
   "metadata": {
    "tags": []
   },
   "outputs": [
    {
     "data": {
      "text/html": [
       "<div>\n",
       "<style scoped>\n",
       "    .dataframe tbody tr th:only-of-type {\n",
       "        vertical-align: middle;\n",
       "    }\n",
       "\n",
       "    .dataframe tbody tr th {\n",
       "        vertical-align: top;\n",
       "    }\n",
       "\n",
       "    .dataframe thead th {\n",
       "        text-align: right;\n",
       "    }\n",
       "</style>\n",
       "<table border=\"1\" class=\"dataframe\">\n",
       "  <thead>\n",
       "    <tr style=\"text-align: right;\">\n",
       "      <th></th>\n",
       "      <th>video_id</th>\n",
       "      <th>channelTitle</th>\n",
       "      <th>title</th>\n",
       "      <th>description</th>\n",
       "      <th>tags</th>\n",
       "      <th>publishedAt</th>\n",
       "      <th>viewCount</th>\n",
       "      <th>likeCount</th>\n",
       "      <th>commentCount</th>\n",
       "      <th>definition</th>\n",
       "      <th>duration_in_minutes</th>\n",
       "      <th>subscribers</th>\n",
       "      <th>total_views</th>\n",
       "      <th>date</th>\n",
       "      <th>video_count</th>\n",
       "      <th>about</th>\n",
       "      <th>country</th>\n",
       "      <th>comments</th>\n",
       "      <th>like_counts</th>\n",
       "      <th>reply_counts</th>\n",
       "    </tr>\n",
       "  </thead>\n",
       "  <tbody>\n",
       "    <tr>\n",
       "      <th>0</th>\n",
       "      <td>N6dYG0FwFvk</td>\n",
       "      <td>Tribe Gaming</td>\n",
       "      <td>BEST MOMENTS OF TRIBE GAMING! (2022)</td>\n",
       "      <td>TRIBE GAMING - BEST OF 2022! \\n\\n2022 was a he...</td>\n",
       "      <td>['Tribe', 'Tribe Gaming', 'Gaming', 'Mobile', ...</td>\n",
       "      <td>2023-01-17 19:15:01+00:00</td>\n",
       "      <td>45177</td>\n",
       "      <td>2540</td>\n",
       "      <td>292</td>\n",
       "      <td>hd</td>\n",
       "      <td>14.835938</td>\n",
       "      <td>488000</td>\n",
       "      <td>101639693</td>\n",
       "      <td>2017-02-27 00:00:00</td>\n",
       "      <td>453</td>\n",
       "      <td>Mobile gaming content and esports organization...</td>\n",
       "      <td>US</td>\n",
       "      <td>2022 has been amazing. Can’t wait for 2023 Tri...</td>\n",
       "      <td>3</td>\n",
       "      <td>0</td>\n",
       "    </tr>\n",
       "    <tr>\n",
       "      <th>1</th>\n",
       "      <td>N6dYG0FwFvk</td>\n",
       "      <td>Tribe Gaming</td>\n",
       "      <td>BEST MOMENTS OF TRIBE GAMING! (2022)</td>\n",
       "      <td>TRIBE GAMING - BEST OF 2022! \\n\\n2022 was a he...</td>\n",
       "      <td>['Tribe', 'Tribe Gaming', 'Gaming', 'Mobile', ...</td>\n",
       "      <td>2023-01-17 19:15:01+00:00</td>\n",
       "      <td>45177</td>\n",
       "      <td>2540</td>\n",
       "      <td>292</td>\n",
       "      <td>hd</td>\n",
       "      <td>14.835938</td>\n",
       "      <td>488000</td>\n",
       "      <td>101639693</td>\n",
       "      <td>2017-02-27 00:00:00</td>\n",
       "      <td>453</td>\n",
       "      <td>Mobile gaming content and esports organization...</td>\n",
       "      <td>US</td>\n",
       "      <td>3:20 THAT'S WILD 💀💀💀</td>\n",
       "      <td>0</td>\n",
       "      <td>0</td>\n",
       "    </tr>\n",
       "    <tr>\n",
       "      <th>2</th>\n",
       "      <td>N6dYG0FwFvk</td>\n",
       "      <td>Tribe Gaming</td>\n",
       "      <td>BEST MOMENTS OF TRIBE GAMING! (2022)</td>\n",
       "      <td>TRIBE GAMING - BEST OF 2022! \\n\\n2022 was a he...</td>\n",
       "      <td>['Tribe', 'Tribe Gaming', 'Gaming', 'Mobile', ...</td>\n",
       "      <td>2023-01-17 19:15:01+00:00</td>\n",
       "      <td>45177</td>\n",
       "      <td>2540</td>\n",
       "      <td>292</td>\n",
       "      <td>hd</td>\n",
       "      <td>14.835938</td>\n",
       "      <td>488000</td>\n",
       "      <td>101639693</td>\n",
       "      <td>2017-02-27 00:00:00</td>\n",
       "      <td>453</td>\n",
       "      <td>Mobile gaming content and esports organization...</td>\n",
       "      <td>US</td>\n",
       "      <td>I know this is a couple of weeks old, but does...</td>\n",
       "      <td>1</td>\n",
       "      <td>0</td>\n",
       "    </tr>\n",
       "    <tr>\n",
       "      <th>3</th>\n",
       "      <td>N6dYG0FwFvk</td>\n",
       "      <td>Tribe Gaming</td>\n",
       "      <td>BEST MOMENTS OF TRIBE GAMING! (2022)</td>\n",
       "      <td>TRIBE GAMING - BEST OF 2022! \\n\\n2022 was a he...</td>\n",
       "      <td>['Tribe', 'Tribe Gaming', 'Gaming', 'Mobile', ...</td>\n",
       "      <td>2023-01-17 19:15:01+00:00</td>\n",
       "      <td>45177</td>\n",
       "      <td>2540</td>\n",
       "      <td>292</td>\n",
       "      <td>hd</td>\n",
       "      <td>14.835938</td>\n",
       "      <td>488000</td>\n",
       "      <td>101639693</td>\n",
       "      <td>2017-02-27 00:00:00</td>\n",
       "      <td>453</td>\n",
       "      <td>Mobile gaming content and esports organization...</td>\n",
       "      <td>US</td>\n",
       "      <td>I miss Pat</td>\n",
       "      <td>0</td>\n",
       "      <td>0</td>\n",
       "    </tr>\n",
       "    <tr>\n",
       "      <th>4</th>\n",
       "      <td>N6dYG0FwFvk</td>\n",
       "      <td>Tribe Gaming</td>\n",
       "      <td>BEST MOMENTS OF TRIBE GAMING! (2022)</td>\n",
       "      <td>TRIBE GAMING - BEST OF 2022! \\n\\n2022 was a he...</td>\n",
       "      <td>['Tribe', 'Tribe Gaming', 'Gaming', 'Mobile', ...</td>\n",
       "      <td>2023-01-17 19:15:01+00:00</td>\n",
       "      <td>45177</td>\n",
       "      <td>2540</td>\n",
       "      <td>292</td>\n",
       "      <td>hd</td>\n",
       "      <td>14.835938</td>\n",
       "      <td>488000</td>\n",
       "      <td>101639693</td>\n",
       "      <td>2017-02-27 00:00:00</td>\n",
       "      <td>453</td>\n",
       "      <td>Mobile gaming content and esports organization...</td>\n",
       "      <td>US</td>\n",
       "      <td>I miss Pat in these videos.</td>\n",
       "      <td>1</td>\n",
       "      <td>0</td>\n",
       "    </tr>\n",
       "  </tbody>\n",
       "</table>\n",
       "</div>"
      ],
      "text/plain": [
       "      video_id  channelTitle                                 title  \\\n",
       "0  N6dYG0FwFvk  Tribe Gaming  BEST MOMENTS OF TRIBE GAMING! (2022)   \n",
       "1  N6dYG0FwFvk  Tribe Gaming  BEST MOMENTS OF TRIBE GAMING! (2022)   \n",
       "2  N6dYG0FwFvk  Tribe Gaming  BEST MOMENTS OF TRIBE GAMING! (2022)   \n",
       "3  N6dYG0FwFvk  Tribe Gaming  BEST MOMENTS OF TRIBE GAMING! (2022)   \n",
       "4  N6dYG0FwFvk  Tribe Gaming  BEST MOMENTS OF TRIBE GAMING! (2022)   \n",
       "\n",
       "                                         description  \\\n",
       "0  TRIBE GAMING - BEST OF 2022! \\n\\n2022 was a he...   \n",
       "1  TRIBE GAMING - BEST OF 2022! \\n\\n2022 was a he...   \n",
       "2  TRIBE GAMING - BEST OF 2022! \\n\\n2022 was a he...   \n",
       "3  TRIBE GAMING - BEST OF 2022! \\n\\n2022 was a he...   \n",
       "4  TRIBE GAMING - BEST OF 2022! \\n\\n2022 was a he...   \n",
       "\n",
       "                                                tags  \\\n",
       "0  ['Tribe', 'Tribe Gaming', 'Gaming', 'Mobile', ...   \n",
       "1  ['Tribe', 'Tribe Gaming', 'Gaming', 'Mobile', ...   \n",
       "2  ['Tribe', 'Tribe Gaming', 'Gaming', 'Mobile', ...   \n",
       "3  ['Tribe', 'Tribe Gaming', 'Gaming', 'Mobile', ...   \n",
       "4  ['Tribe', 'Tribe Gaming', 'Gaming', 'Mobile', ...   \n",
       "\n",
       "                 publishedAt viewCount likeCount commentCount definition  \\\n",
       "0  2023-01-17 19:15:01+00:00     45177      2540          292         hd   \n",
       "1  2023-01-17 19:15:01+00:00     45177      2540          292         hd   \n",
       "2  2023-01-17 19:15:01+00:00     45177      2540          292         hd   \n",
       "3  2023-01-17 19:15:01+00:00     45177      2540          292         hd   \n",
       "4  2023-01-17 19:15:01+00:00     45177      2540          292         hd   \n",
       "\n",
       "  duration_in_minutes subscribers total_views                 date  \\\n",
       "0           14.835938      488000   101639693  2017-02-27 00:00:00   \n",
       "1           14.835938      488000   101639693  2017-02-27 00:00:00   \n",
       "2           14.835938      488000   101639693  2017-02-27 00:00:00   \n",
       "3           14.835938      488000   101639693  2017-02-27 00:00:00   \n",
       "4           14.835938      488000   101639693  2017-02-27 00:00:00   \n",
       "\n",
       "  video_count                                              about country  \\\n",
       "0         453  Mobile gaming content and esports organization...      US   \n",
       "1         453  Mobile gaming content and esports organization...      US   \n",
       "2         453  Mobile gaming content and esports organization...      US   \n",
       "3         453  Mobile gaming content and esports organization...      US   \n",
       "4         453  Mobile gaming content and esports organization...      US   \n",
       "\n",
       "                                            comments like_counts reply_counts  \n",
       "0  2022 has been amazing. Can’t wait for 2023 Tri...           3            0  \n",
       "1                               3:20 THAT'S WILD 💀💀💀           0            0  \n",
       "2  I know this is a couple of weeks old, but does...           1            0  \n",
       "3                                         I miss Pat           0            0  \n",
       "4                        I miss Pat in these videos.           1            0  "
      ]
     },
     "execution_count": 9,
     "metadata": {},
     "output_type": "execute_result"
    }
   ],
   "source": [
    "df.head()"
   ]
  },
  {
   "cell_type": "markdown",
   "id": "8d71c2d1-bed5-440e-a7c8-4dd52f37eb00",
   "metadata": {},
   "source": [
    "##  <center> **Extract <span style=\"color: red\">categorical</span> features**"
   ]
  },
  {
   "cell_type": "markdown",
   "id": "786d86d3-1556-44fc-b2e8-4b85f74ab79f",
   "metadata": {
    "tags": []
   },
   "source": [
    "#### *Extract emojies count per text*"
   ]
  },
  {
   "cell_type": "code",
   "execution_count": 10,
   "id": "f4d5ae23-d9c9-4307-811a-366b6cadfd8b",
   "metadata": {},
   "outputs": [],
   "source": [
    "comments_emojis_counts: list = []\n",
    "title_emojis_counts: list = []\n",
    "desc_emojis_counts: list = []\n",
    "\n",
    "for comment, title, desc in zip(df[\"comments\"], df[\"title\"], df[\"description\"]):\n",
    "    \n",
    "    comments_emojis_count: int = 0\n",
    "    title_emojis_count: int = 0\n",
    "    desc_emojis_count: int = 0\n",
    "    \n",
    "    for comment_char, title_char, desc_char in zip(comment, title, desc):\n",
    "        \n",
    "        if emoji.is_emoji(comment_char):\n",
    "            comments_emojis_count += 1\n",
    "            \n",
    "        if emoji.is_emoji(title_char):\n",
    "            title_emojis_count += 1\n",
    "            \n",
    "        if emoji.is_emoji(desc_char):\n",
    "            desc_emojis_count += 1\n",
    "    \n",
    "    comments_emojis_counts.append(comments_emojis_count)\n",
    "    title_emojis_counts.append(title_emojis_count)\n",
    "    desc_emojis_counts.append(desc_emojis_count)"
   ]
  },
  {
   "cell_type": "code",
   "execution_count": 20,
   "id": "ba335f72-df88-4bc3-ace7-27a991b83a6f",
   "metadata": {
    "tags": []
   },
   "outputs": [
    {
     "data": {
      "text/html": [
       "<div>\n",
       "<style scoped>\n",
       "    .dataframe tbody tr th:only-of-type {\n",
       "        vertical-align: middle;\n",
       "    }\n",
       "\n",
       "    .dataframe tbody tr th {\n",
       "        vertical-align: top;\n",
       "    }\n",
       "\n",
       "    .dataframe thead th {\n",
       "        text-align: right;\n",
       "    }\n",
       "</style>\n",
       "<table border=\"1\" class=\"dataframe\">\n",
       "  <thead>\n",
       "    <tr style=\"text-align: right;\">\n",
       "      <th></th>\n",
       "      <th>video_id</th>\n",
       "      <th>channelTitle</th>\n",
       "      <th>title</th>\n",
       "      <th>description</th>\n",
       "      <th>tags</th>\n",
       "      <th>publishedAt</th>\n",
       "      <th>viewCount</th>\n",
       "      <th>likeCount</th>\n",
       "      <th>commentCount</th>\n",
       "      <th>definition</th>\n",
       "      <th>...</th>\n",
       "      <th>date</th>\n",
       "      <th>video_count</th>\n",
       "      <th>about</th>\n",
       "      <th>country</th>\n",
       "      <th>comments</th>\n",
       "      <th>like_counts</th>\n",
       "      <th>reply_counts</th>\n",
       "      <th>comments_emojis_count</th>\n",
       "      <th>title_emojis_count</th>\n",
       "      <th>desc_emojis_count</th>\n",
       "    </tr>\n",
       "  </thead>\n",
       "  <tbody>\n",
       "    <tr>\n",
       "      <th>1171</th>\n",
       "      <td>orYf15jizww</td>\n",
       "      <td>Grizzley Gang Gaming</td>\n",
       "      <td>Episode 17: GG Got Me In Jail?! | GTA RP | Gri...</td>\n",
       "      <td>TEE GRIZZLEY Playing GTA RP\\nEpisode 17 Of Sea...</td>\n",
       "      <td>['tee grizzley gta 5', 'tee grizzley', 'tee gr...</td>\n",
       "      <td>2023-03-03 00:00:08+00:00</td>\n",
       "      <td>224412</td>\n",
       "      <td>2857</td>\n",
       "      <td>328</td>\n",
       "      <td>hd</td>\n",
       "      <td>...</td>\n",
       "      <td>2021-01-19 00:00:00</td>\n",
       "      <td>1306</td>\n",
       "      <td>TEE GRIZZLEY (GRIZZLEY WORLD OWNER):\\nhttps://...</td>\n",
       "      <td>US</td>\n",
       "      <td>The investigation scene is hilarious 😭😭😭😂</td>\n",
       "      <td>0</td>\n",
       "      <td>0</td>\n",
       "      <td>4</td>\n",
       "      <td>0</td>\n",
       "      <td>0</td>\n",
       "    </tr>\n",
       "    <tr>\n",
       "      <th>189</th>\n",
       "      <td>PXilxI_iJyM</td>\n",
       "      <td>Daxua Gaming</td>\n",
       "      <td>New🔥Tips And Trick Hold The Phone Properly Whe...</td>\n",
       "      <td>A 18 Years Old Vietnam 🇻🇳 God Level Skills And...</td>\n",
       "      <td>['pubg bgmi', 'tips and trick noob pro', 'new ...</td>\n",
       "      <td>2023-04-06 15:42:05+00:00</td>\n",
       "      <td>38674</td>\n",
       "      <td>2170</td>\n",
       "      <td>194</td>\n",
       "      <td>hd</td>\n",
       "      <td>...</td>\n",
       "      <td>2019-09-28 00:00:00</td>\n",
       "      <td>854</td>\n",
       "      <td>Follow me on Facebook: https://www.facebook.co...</td>\n",
       "      <td>IN</td>\n",
       "      <td>Op</td>\n",
       "      <td>0</td>\n",
       "      <td>1</td>\n",
       "      <td>0</td>\n",
       "      <td>0</td>\n",
       "      <td>0</td>\n",
       "    </tr>\n",
       "    <tr>\n",
       "      <th>552</th>\n",
       "      <td>Mi7hJuNTwzs</td>\n",
       "      <td>Happy Prince Gaming</td>\n",
       "      <td>New Evo Mp5 🤣🥕Candy Bunny Gun Skin Good Or Bad...</td>\n",
       "      <td>Free Fire New Event Video\\nFree Fire Noob To P...</td>\n",
       "      <td>['free fire', 'new mp5', 'candy bunny', 'new m...</td>\n",
       "      <td>2023-03-17 06:11:02+00:00</td>\n",
       "      <td>53929</td>\n",
       "      <td>5203</td>\n",
       "      <td>487</td>\n",
       "      <td>hd</td>\n",
       "      <td>...</td>\n",
       "      <td>2018-06-29 00:00:00</td>\n",
       "      <td>538</td>\n",
       "      <td>Exclusively Managed by : XNetwork\\nBusiness Ma...</td>\n",
       "      <td>IN</td>\n",
       "      <td>Oll are noob</td>\n",
       "      <td>0</td>\n",
       "      <td>0</td>\n",
       "      <td>0</td>\n",
       "      <td>0</td>\n",
       "      <td>0</td>\n",
       "    </tr>\n",
       "    <tr>\n",
       "      <th>2017</th>\n",
       "      <td>c_dY_C42drk</td>\n",
       "      <td>Top Collection Gaming</td>\n",
       "      <td>Rank မတက်လို့စိတ်ညစ်‌နေလား?D‌ စောက်ရမ်းကြမ်းတဲ...</td>\n",
       "      <td>#edith #edithgameplay #edithitems #edithbestbu...</td>\n",
       "      <td>['mlbb myanmar', 'mlbb hero guide', 'mlbb item...</td>\n",
       "      <td>2023-03-08 11:30:16+00:00</td>\n",
       "      <td>77301</td>\n",
       "      <td>4583</td>\n",
       "      <td>748</td>\n",
       "      <td>hd</td>\n",
       "      <td>...</td>\n",
       "      <td>2021-01-21 00:00:00</td>\n",
       "      <td>456</td>\n",
       "      <td>😎 စောက်ချောကြီးရဲ့ မရယ်ရတဲ့ Gameplay အလန်းစားတ...</td>\n",
       "      <td>SG</td>\n",
       "      <td>အားေနတယ်နာ်</td>\n",
       "      <td>1</td>\n",
       "      <td>0</td>\n",
       "      <td>0</td>\n",
       "      <td>0</td>\n",
       "      <td>0</td>\n",
       "    </tr>\n",
       "    <tr>\n",
       "      <th>410</th>\n",
       "      <td>2JI2UMupAjU</td>\n",
       "      <td>SQUEEZIE GAMING</td>\n",
       "      <td>Tout le monde a peur de lui 😨 (Among Us)</td>\n",
       "      <td>Il fait des moves si imprévisibles sur Among U...</td>\n",
       "      <td>['squeezie best of', 'squeezie moments marrant...</td>\n",
       "      <td>2023-03-30 16:00:01+00:00</td>\n",
       "      <td>1086680</td>\n",
       "      <td>64802</td>\n",
       "      <td>491</td>\n",
       "      <td>hd</td>\n",
       "      <td>...</td>\n",
       "      <td>2018-09-10 00:00:00</td>\n",
       "      <td>628</td>\n",
       "      <td>En live sur ma chaîne Twitch chaque Mercredi d...</td>\n",
       "      <td>FR</td>\n",
       "      <td>Sheshounet comment il joue mal j’ai jure 😭</td>\n",
       "      <td>0</td>\n",
       "      <td>0</td>\n",
       "      <td>0</td>\n",
       "      <td>1</td>\n",
       "      <td>0</td>\n",
       "    </tr>\n",
       "  </tbody>\n",
       "</table>\n",
       "<p>5 rows × 23 columns</p>\n",
       "</div>"
      ],
      "text/plain": [
       "         video_id           channelTitle  \\\n",
       "1171  orYf15jizww   Grizzley Gang Gaming   \n",
       "189   PXilxI_iJyM           Daxua Gaming   \n",
       "552   Mi7hJuNTwzs    Happy Prince Gaming   \n",
       "2017  c_dY_C42drk  Top Collection Gaming   \n",
       "410   2JI2UMupAjU        SQUEEZIE GAMING   \n",
       "\n",
       "                                                  title  \\\n",
       "1171  Episode 17: GG Got Me In Jail?! | GTA RP | Gri...   \n",
       "189   New🔥Tips And Trick Hold The Phone Properly Whe...   \n",
       "552   New Evo Mp5 🤣🥕Candy Bunny Gun Skin Good Or Bad...   \n",
       "2017  Rank မတက်လို့စိတ်ညစ်‌နေလား?D‌ စောက်ရမ်းကြမ်းတဲ...   \n",
       "410            Tout le monde a peur de lui 😨 (Among Us)   \n",
       "\n",
       "                                            description  \\\n",
       "1171  TEE GRIZZLEY Playing GTA RP\\nEpisode 17 Of Sea...   \n",
       "189   A 18 Years Old Vietnam 🇻🇳 God Level Skills And...   \n",
       "552   Free Fire New Event Video\\nFree Fire Noob To P...   \n",
       "2017  #edith #edithgameplay #edithitems #edithbestbu...   \n",
       "410   Il fait des moves si imprévisibles sur Among U...   \n",
       "\n",
       "                                                   tags  \\\n",
       "1171  ['tee grizzley gta 5', 'tee grizzley', 'tee gr...   \n",
       "189   ['pubg bgmi', 'tips and trick noob pro', 'new ...   \n",
       "552   ['free fire', 'new mp5', 'candy bunny', 'new m...   \n",
       "2017  ['mlbb myanmar', 'mlbb hero guide', 'mlbb item...   \n",
       "410   ['squeezie best of', 'squeezie moments marrant...   \n",
       "\n",
       "                    publishedAt viewCount likeCount commentCount definition  \\\n",
       "1171  2023-03-03 00:00:08+00:00    224412      2857          328         hd   \n",
       "189   2023-04-06 15:42:05+00:00     38674      2170          194         hd   \n",
       "552   2023-03-17 06:11:02+00:00     53929      5203          487         hd   \n",
       "2017  2023-03-08 11:30:16+00:00     77301      4583          748         hd   \n",
       "410   2023-03-30 16:00:01+00:00   1086680     64802          491         hd   \n",
       "\n",
       "      ...                 date video_count  \\\n",
       "1171  ...  2021-01-19 00:00:00        1306   \n",
       "189   ...  2019-09-28 00:00:00         854   \n",
       "552   ...  2018-06-29 00:00:00         538   \n",
       "2017  ...  2021-01-21 00:00:00         456   \n",
       "410   ...  2018-09-10 00:00:00         628   \n",
       "\n",
       "                                                  about country  \\\n",
       "1171  TEE GRIZZLEY (GRIZZLEY WORLD OWNER):\\nhttps://...      US   \n",
       "189   Follow me on Facebook: https://www.facebook.co...      IN   \n",
       "552   Exclusively Managed by : XNetwork\\nBusiness Ma...      IN   \n",
       "2017  😎 စောက်ချောကြီးရဲ့ မရယ်ရတဲ့ Gameplay အလန်းစားတ...      SG   \n",
       "410   En live sur ma chaîne Twitch chaque Mercredi d...      FR   \n",
       "\n",
       "                                        comments like_counts reply_counts  \\\n",
       "1171   The investigation scene is hilarious 😭😭😭😂           0            0   \n",
       "189                                           Op           0            1   \n",
       "552                                 Oll are noob           0            0   \n",
       "2017                                 အားေနတယ်နာ်           1            0   \n",
       "410   Sheshounet comment il joue mal j’ai jure 😭           0            0   \n",
       "\n",
       "     comments_emojis_count title_emojis_count desc_emojis_count  \n",
       "1171                     4                  0                 0  \n",
       "189                      0                  0                 0  \n",
       "552                      0                  0                 0  \n",
       "2017                     0                  0                 0  \n",
       "410                      0                  1                 0  \n",
       "\n",
       "[5 rows x 23 columns]"
      ]
     },
     "execution_count": 20,
     "metadata": {},
     "output_type": "execute_result"
    }
   ],
   "source": [
    "df[\"comments_emojis_count\"] = comments_emojis_counts\n",
    "df[\"title_emojis_count\"] = title_emojis_counts\n",
    "df[\"desc_emojis_count\"] = desc_emojis_counts\n",
    "\n",
    "df.sample(5)"
   ]
  },
  {
   "cell_type": "markdown",
   "id": "4d487f5b-5b6f-4b93-8fd3-0079446e4a74",
   "metadata": {
    "tags": []
   },
   "source": [
    "#### *Language detection & transilation*"
   ]
  },
  {
   "cell_type": "code",
   "execution_count": 30,
   "id": "4d3385b1-79ec-42f1-9a2b-de5b3801a91e",
   "metadata": {
    "tags": []
   },
   "outputs": [
    {
     "name": "stderr",
     "output_type": "stream",
     "text": [
      "Truncation was not explicitly activated but `max_length` is provided a specific value, please use `truncation=True` to explicitly truncate examples to max length. Defaulting to 'longest_first' truncation strategy. If you encode pairs of sequences (GLUE-style) with the tokenizer you can select this strategy more precisely by providing a specific strategy to `truncation`.\n"
     ]
    },
    {
     "data": {
      "text/plain": [
       "{'label': 'ur', 'score': 0.9938288331031799}"
      ]
     },
     "execution_count": 30,
     "metadata": {},
     "output_type": "execute_result"
    }
   ],
   "source": [
    "language_detector = transformers.pipeline(\"text-classification\",\n",
    "                                          model=\"papluca/xlm-roberta-base-language-detection\",\n",
    "                                          use_auth_token= True)"
   ]
  },
  {
   "cell_type": "code",
   "execution_count": 37,
   "id": "dbcab35d-9a81-487f-87dd-962631a5109b",
   "metadata": {
    "tags": []
   },
   "outputs": [
    {
     "name": "stdout",
     "output_type": "stream",
     "text": [
      "1.62 s ± 85.9 ms per loop (mean ± std. dev. of 7 runs, 1 loop each)\n"
     ]
    }
   ],
   "source": [
    "%%timeit\n",
    "language_detector(\"Hello that **** code please run fatsre than that\", max_length=512)[0][\"label\"]"
   ]
  },
  {
   "cell_type": "markdown",
   "id": "860e40b4-01c6-478f-8672-219a5cb73e0a",
   "metadata": {},
   "source": [
    "Looks like we will take a lot to <ins>just classify the language</ins> of each text at least: $1.5\\times2000\\times3$ second whitch equalls <span style=\"color: red\">**2.5 hours**</span><br>\n",
    "So we can't do translation for now becuase it at least may take **5 hours** to run so we will just use this language detetion."
   ]
  },
  {
   "cell_type": "code",
   "execution_count": null,
   "id": "eac42237-c9bd-4b46-a02a-e49545450f42",
   "metadata": {
    "tags": []
   },
   "outputs": [],
   "source": [
    "comments_languages = []\n",
    "descs_languages = []\n",
    "titels_languages = []\n",
    "\n",
    "for comment, title, desc in zip(df[\"comments\"][:10], df[\"title\"][:10], df[\"description\"][:10]):\n",
    "    \n",
    "    comments_languages.append(language_detector(comment, max_length=512)[0][\"label\"])\n",
    "    descs_languages.append(language_detector(title, max_length=512)[0][\"label\"])\n",
    "    titels_languages.append(language_detector(desc, max_length=512)[0][\"label\"])"
   ]
  },
  {
   "cell_type": "code",
   "execution_count": null,
   "id": "d1a872db-4a94-4952-bb1b-67779dc936cc",
   "metadata": {},
   "outputs": [],
   "source": [
    "translated_comments"
   ]
  },
  {
   "cell_type": "markdown",
   "id": "1090791f-b041-44a6-90a6-75f463aec37b",
   "metadata": {},
   "source": [
    "#### *Text nature classification*"
   ]
  },
  {
   "cell_type": "code",
   "execution_count": null,
   "id": "7dcc8fbc-0843-4077-a6b4-d6c83abc7b9b",
   "metadata": {},
   "outputs": [],
   "source": [
    "language_detector = pipeline(\"text2text-generation\", model=\"joeddav/xlm-roberta-large-xnli\")\n"
   ]
  }
 ],
 "metadata": {
  "kernelspec": {
   "display_name": "Python 3 (ipykernel)",
   "language": "python",
   "name": "python3"
  },
  "language_info": {
   "codemirror_mode": {
    "name": "ipython",
    "version": 3
   },
   "file_extension": ".py",
   "mimetype": "text/x-python",
   "name": "python",
   "nbconvert_exporter": "python",
   "pygments_lexer": "ipython3",
   "version": "3.9.16"
  }
 },
 "nbformat": 4,
 "nbformat_minor": 5
}
